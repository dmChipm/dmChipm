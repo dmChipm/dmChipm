{
  "nbformat": 4,
  "nbformat_minor": 0,
  "metadata": {
    "colab": {
      "provenance": []
    },
    "kernelspec": {
      "name": "python3",
      "display_name": "Python 3"
    },
    "language_info": {
      "name": "python"
    }
  },
  "cells": [
    {
      "cell_type": "markdown",
      "source": [],
      "metadata": {
        "id": "4qCnUa3ASuRB"
      }
    },
    {
      "cell_type": "markdown",
      "source": [
        "#<center> Resume of Davis Chipman\n",
        "\n",
        "Poor college student with stupidly high aspirations to become a serial entrepreneur and help solve some major world problem, eventually.  \n",
        "\n",
        "##<center> Contact\n",
        "Email: davischipman@gmail.com\n",
        "\n",
        "Website: https://www.linkedin.com/in/davischipman/\n",
        "##<center> Education\n",
        "\n",
        "**Southern Utah University:** \\\n",
        "BS in Marketing, BS in Finance, Minor in Profession Sales - Expected Graduation 2024\n",
        "\n",
        "**Utah Tech University:** \\\n",
        "Associate Degree, Certificate of Entrepreneurship\n",
        "\n",
        "\n",
        "---\n",
        "##<center> Experience\n",
        "**zzBots:**\\\n",
        "*Product Manager*: Responsible for guiding customer experience though email campaigns to promote onboarding, retention, and upselling.\\\n",
        "*Partner Relationship Manager*: Formed and maintained strategic B2B partnerships.\n",
        "\n",
        "**Southern Utah Pet Clean Up**\\\n",
        "*Owner/Operator*: Oversaw all management and sales operations.\n",
        "\n",
        "---\n",
        "\n",
        "##<center> Skills\n",
        "Underwater basket weaving\\\n",
        "Talking with people\\\n",
        "Shamelessly pitching products and ideas\\\n",
        "Googling answers, YouTubing Solutions, Finding a way\\\n",
        "Baking\n",
        "\n"
      ],
      "metadata": {
        "id": "9PowLyhHiVV7"
      }
    }
  ]
}